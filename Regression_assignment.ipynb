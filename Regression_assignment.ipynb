{
  "nbformat": 4,
  "nbformat_minor": 0,
  "metadata": {
    "colab": {
      "provenance": []
    },
    "kernelspec": {
      "name": "python3",
      "display_name": "Python 3"
    },
    "language_info": {
      "name": "python"
    }
  },
  "cells": [
    {
      "cell_type": "markdown",
      "source": [
        "Q1. What is Simple Linear Regression?"
      ],
      "metadata": {
        "id": "MZYDfAnvKYfF"
      }
    },
    {
      "cell_type": "markdown",
      "source": [
        "Ans. Simple linear regression is a statistical method used to model the relationship between two variables. it predicts a dependent variable(Y) based on an independent variable (X) using the formula Y = b0 + b1X. Here, b0 is the  y-intercept and b1 is the slope of the line. The goal is to find the best-fitting line that minimizes the difference between the actual data points and the predicted values. it assumes a linear relationship between the variables."
      ],
      "metadata": {
        "id": "sX4HBf3ULW7S"
      }
    },
    {
      "cell_type": "markdown",
      "source": [
        "Q2. What are the key assumptions of Simple Linear Regression?"
      ],
      "metadata": {
        "id": "CEr2e3pQNaZ_"
      }
    },
    {
      "cell_type": "markdown",
      "source": [
        "Ans. The key assumptions of simple linear regression are:\n",
        "\n",
        "1. Linearity : The relationship between the independent and dependent variables is linear.\n",
        "2. Independence : observations are independent of each other.\n",
        "3. Homoscedasticity : The variance of errors is constant across all levels of the independent variable.\n",
        "4. Normality : The residuals are approximately normally distributed.\n",
        "\n",
        "These assumptions ensure the reliability of the regression results.\n",
        "\n",
        "\n"
      ],
      "metadata": {
        "id": "9UCTQx5iNgTK"
      }
    },
    {
      "cell_type": "markdown",
      "source": [
        "Q3. What does the coefficient m represent in the equation Y=mX+c?"
      ],
      "metadata": {
        "id": "mWkhK0QNRIai"
      }
    },
    {
      "cell_type": "markdown",
      "source": [
        "Ans. In the equation Y = mX + c, the coefficient m represents the slope of the line. It indicates how much the dependent variable Y changes for each one-unit increase in the independent variable X. In other words, if m is positive, Y increases as X increases, and if m is negative, Y decreases as X increases. The slope shows the strength and direction of the relationship between the two variables."
      ],
      "metadata": {
        "id": "Zii8-EOBRO42"
      }
    },
    {
      "cell_type": "markdown",
      "source": [
        "Q4. What does the intercept c represent in the equation Y=mX+c?"
      ],
      "metadata": {
        "id": "pf2TBruyRvvH"
      }
    },
    {
      "cell_type": "markdown",
      "source": [
        "Ans. In the equation Y = mX + c, the intercept c represents the value of the dependent variable Y when the independent variable X is equal to zero. It is the point where the line crosses the Y-axis. The intercept indicates the starting value of Y in the absence of any influence from X."
      ],
      "metadata": {
        "id": "z0_bQ8rLR5Y4"
      }
    },
    {
      "cell_type": "markdown",
      "source": [
        "Q5.  How do we calculate the slope m in Simple Linear Regression?"
      ],
      "metadata": {
        "id": "Z9P7bdxzSRYy"
      }
    },
    {
      "cell_type": "markdown",
      "source": [
        "Ans. To calculate the slope m in simple linear regression, use the formula:\n",
        "\n",
        "m = (N * Σ(XY) - ΣX * ΣY) / (N * Σ(X^2) - (ΣX)^2)\n",
        "\n",
        "Where:\n",
        "- N = number of data points\n",
        "- Σ(XY) = sum of the product of X and Y values\n",
        "- ΣX = sum of X values\n",
        "- ΣY = sum of Y values\n",
        "- Σ(X^2) = sum of squares of X values\n",
        "\n",
        "This formula helps you find the slope of the regression line."
      ],
      "metadata": {
        "id": "DOYBA5oIScAT"
      }
    },
    {
      "cell_type": "markdown",
      "source": [
        "Q6. What is the purpose of the least squares method in Simple Linear Regression?"
      ],
      "metadata": {
        "id": "Zbd2rewTS1Sd"
      }
    },
    {
      "cell_type": "markdown",
      "source": [
        "Ans. The least squares method in simple linear regression is used to find the best-fitting line by minimizing the sum of the squares of the differences between the observed data points and the predicted values. This helps create the most accurate model of the relationship between the variables."
      ],
      "metadata": {
        "id": "zk698wZJS6kV"
      }
    },
    {
      "cell_type": "markdown",
      "source": [
        "Q7. - How is the coefficient of determination (R²) interpreted in Simple Linear Regression?"
      ],
      "metadata": {
        "id": "kmB1-VNcTPFa"
      }
    },
    {
      "cell_type": "markdown",
      "source": [
        "Ans. R², or the coefficient of determination, shows how much of the variance in the dependent variable is explained by the independent variable in simple linear regression. It ranges from 0 to 1: 0 means no explanation of variance, while 1 means complete explanation. For example, an R² of 0.75 means 75% of the variance is explained by the model."
      ],
      "metadata": {
        "id": "R1s29HINTTa1"
      }
    },
    {
      "cell_type": "markdown",
      "source": [
        "Q8. What is Multiple Linear Regression?"
      ],
      "metadata": {
        "id": "J36jG2MrT1qd"
      }
    },
    {
      "cell_type": "markdown",
      "source": [
        "Ans. Multiple linear regression is a statistical method that models the relationship between one dependent variable and two or more independent variables. It aims to predict the dependent variable using an equation that includes multiple predictors, helping to understand how different factors influence the outcome."
      ],
      "metadata": {
        "id": "kHWqeQLGT5zT"
      }
    },
    {
      "cell_type": "markdown",
      "source": [
        "Q9.  What is the main difference between Simple and Multiple Linear Regression?"
      ],
      "metadata": {
        "id": "ztwsGdpLURiS"
      }
    },
    {
      "cell_type": "markdown",
      "source": [
        "Ans. The main difference is that simple linear regression uses one independent variable, while multiple linear regression uses two or more independent variables to predict the dependent variable."
      ],
      "metadata": {
        "id": "CUXzTvI0UX4V"
      }
    },
    {
      "cell_type": "markdown",
      "source": [
        "Q10. What are the key assumptions of Multiple Linear Regression?"
      ],
      "metadata": {
        "id": "5CS3yedKUr4_"
      }
    },
    {
      "cell_type": "markdown",
      "source": [
        "Ans. The key assumptions of multiple linear regression are:\n",
        "\n",
        "1. Linearity: The relationship between the variables is linear.\n",
        "2. Independence: Observations are independent.\n",
        "3. Homoscedasticity: Residuals have constant variance.\n",
        "4. Normality: Residuals are normally distributed.\n",
        "5. No multicollinearity: Independent variables are not highly correlated.\n",
        "\n",
        "These assumptions help ensure the model's reliability."
      ],
      "metadata": {
        "id": "ogjeqqxkUwj0"
      }
    },
    {
      "cell_type": "markdown",
      "source": [
        "Q11. - What is heteroscedasticity, and how does it affect the results of a Multiple Linear Regression model?"
      ],
      "metadata": {
        "id": "wwehBEytVK_f"
      }
    },
    {
      "cell_type": "markdown",
      "source": [
        "Ans. Heteroscedasticity is when the variance of residuals in a regression model is not constant across levels of the independent variables. It can lead to biased standard errors, unreliable hypothesis tests, and inefficient estimates, which can make the regression results misleading."
      ],
      "metadata": {
        "id": "BUsNi983VQDl"
      }
    },
    {
      "cell_type": "markdown",
      "source": [
        "Q12. How can you improve a Multiple Linear Regression model with high multicollinearity?"
      ],
      "metadata": {
        "id": "4SQQ5JKkVpz9"
      }
    },
    {
      "cell_type": "markdown",
      "source": [
        "Ans. To improve a Multiple Linear Regression model with high multicollinearity, you can:\n",
        "\n",
        "1. Remove one of the highly correlated variables.\n",
        "2. Combine correlated variables into a single new variable.\n",
        "3. Use Principal Component Analysis (PCA) to create uncorrelated variables.\n",
        "4. Apply regularization techniques like Ridge or Lasso Regression.\n",
        "5. Increase the sample size to reduce multicollinearity effects.\n",
        "\n",
        "These strategies can enhance the model's stability and interpretability."
      ],
      "metadata": {
        "id": "nmk7jiYdVvDW"
      }
    },
    {
      "cell_type": "markdown",
      "source": [
        "Q13. What are some common techniques for transforming categorical variables for use in regression models?"
      ],
      "metadata": {
        "id": "gLNsgxkWWIbD"
      }
    },
    {
      "cell_type": "markdown",
      "source": [
        "Ans. Some common techniques for transforming categorical variables for regression models are:\n",
        "\n",
        "1. One-Hot Encoding: Creates binary variables for each category.\n",
        "2. Label Encoding: Assigns unique integers to each category.\n",
        "3. Binary Encoding: Converts categories to binary code for high-cardinality variables.\n",
        "4. Frequency Encoding: Replaces categories with their frequency in the dataset.\n",
        "5. Target Encoding: Replaces categories with the mean of the target variable for each category.\n",
        "\n",
        "These methods help effectively include categorical variables in regression models."
      ],
      "metadata": {
        "id": "UvzSp6gdWS4M"
      }
    },
    {
      "cell_type": "markdown",
      "source": [
        "Q14. What is the role of interaction terms in Multiple Linear Regression?"
      ],
      "metadata": {
        "id": "xSz65ExAWsuT"
      }
    },
    {
      "cell_type": "markdown",
      "source": [
        "Ans. Interaction terms in Multiple Linear Regression assess how the combined effect of two or more independent variables influences the dependent variable. They help identify if the impact of one variable changes depending on the level of another variable. Including interaction terms can enhance model accuracy and provide deeper insights into variable relationships, but they also add complexity to the model."
      ],
      "metadata": {
        "id": "2DLfmPsOWw6n"
      }
    },
    {
      "cell_type": "markdown",
      "source": [
        "Q15. How can the interpretation of intercept differ between Simple and Multiple Linear Regression?"
      ],
      "metadata": {
        "id": "Bf6d43o1W9OD"
      }
    },
    {
      "cell_type": "markdown",
      "source": [
        "Ans. In Simple Linear Regression, the intercept is the expected value of the dependent variable when the independent variable is zero. In Multiple Linear Regression, the intercept also represents the expected value when all independent variables are zero, but its interpretation can be complex, especially if some predictors can't realistically be zero. So, the intercept's meaning can differ significantly between the two types of regression."
      ],
      "metadata": {
        "id": "Q2MFqVn4XB3M"
      }
    },
    {
      "cell_type": "markdown",
      "source": [
        "Q16.  What is the significance of the slope in regression analysis, and how does it affect predictions?"
      ],
      "metadata": {
        "id": "XpG012sHXZrj"
      }
    },
    {
      "cell_type": "markdown",
      "source": [
        "Ans. The slope in regression analysis shows how much the dependent variable changes for a one-unit change in the independent variable. A positive slope means both variables increase together, while a negative slope means one increases as the other decreases. The slope is important because it affects predictions; a steeper slope indicates a stronger relationship, leading to larger changes in predictions with small changes in the independent variable."
      ],
      "metadata": {
        "id": "K-6msyVUXeao"
      }
    },
    {
      "cell_type": "markdown",
      "source": [
        "Q17. How does the intercept in a regression model provide context for the relationship between variables?"
      ],
      "metadata": {
        "id": "cynqRrLBXqO3"
      }
    },
    {
      "cell_type": "markdown",
      "source": [
        "Ans. The intercept in a regression model shows the expected value of the dependent variable when all independent variables are zero. It provides a baseline for understanding the relationship between variables. If the independent variables can't realistically be zero, the intercept might not have practical significance. Overall, it helps contextualize how the independent variables affect the dependent variable."
      ],
      "metadata": {
        "id": "gaVGtlt6Xuhb"
      }
    },
    {
      "cell_type": "markdown",
      "source": [
        "Q18. What are the limitations of using R² as a sole measure of model performance?"
      ],
      "metadata": {
        "id": "ZmyoWbaZX53A"
      }
    },
    {
      "cell_type": "markdown",
      "source": [
        "Ans. Using R² as the sole measure of model performance has limitations, including:\n",
        "\n",
        "1. It doesn't guarantee model quality; a high R² doesn't mean good predictions.\n",
        "2. It's sensitive to overfitting; adding variables can inflate R² without improving the model.\n",
        "3. It doesn't reflect prediction bias; a model can have a high R² but still be biased.\n",
        "4. It's limited for non-linear models; R² is mainly for linear regression.\n",
        "5. It ignores the context of the data; R² doesn't provide practical significance.\n",
        "\n",
        "Overall, R² should be used alongside other metrics for a complete evaluation."
      ],
      "metadata": {
        "id": "PDNY8x-IYAKC"
      }
    },
    {
      "cell_type": "markdown",
      "source": [
        "Q19. How would you interpret a large standard error for a regression coefficient?"
      ],
      "metadata": {
        "id": "dUQtzozVYUC7"
      }
    },
    {
      "cell_type": "markdown",
      "source": [
        "Ans. A large standard error for a regression coefficient indicates high uncertainty about that estimate. It suggests that the effect of the independent variable on the dependent variable may not be consistent or reliable. This variability makes it difficult to draw strong conclusions about the significance of that variable in the model. Essentially, it means the coefficient could vary widely if the analysis were repeated."
      ],
      "metadata": {
        "id": "RuPYH_EFYZIW"
      }
    },
    {
      "cell_type": "markdown",
      "source": [
        "Q20. How can heteroscedasticity be identified in residual plots, and why is it important to address it?"
      ],
      "metadata": {
        "id": "TscLB4NKYmi9"
      }
    },
    {
      "cell_type": "markdown",
      "source": [
        "Ans. Heteroscedasticity can be identified in residual plots by checking for patterns in the spread of residuals. If they fan out or contract with fitted values, it indicates changing variability.\n",
        "\n",
        "It's important to address it because it can lead to biased standard errors, affecting the validity of statistical tests and the reliability of the model's predictions."
      ],
      "metadata": {
        "id": "MJTsBGAeYrEs"
      }
    },
    {
      "cell_type": "markdown",
      "source": [
        "Q21. What does it mean if a Multiple Linear Regression model has a high R² but low adjusted R²?"
      ],
      "metadata": {
        "id": "MqITJVtmY6IE"
      }
    },
    {
      "cell_type": "markdown",
      "source": [
        "Ans. If a Multiple Linear Regression model has a high R² but low adjusted R², it means the model explains a lot of variance, but the additional predictors may not be useful. High R² can result from adding more variables, even if they're not meaningful, while low adjusted R² indicates potential overfitting. This suggests the model might not be better despite the high R²."
      ],
      "metadata": {
        "id": "qymCfq5OY_aW"
      }
    },
    {
      "cell_type": "markdown",
      "source": [
        "Q22. Why is it important to scale variables in Multiple Linear Regression?"
      ],
      "metadata": {
        "id": "H8cFxhFQZQeO"
      }
    },
    {
      "cell_type": "markdown",
      "source": [
        "Ans. It's important to scale variables in Multiple Linear Regression because it improves convergence of algorithms, makes coefficients more interpretable, prevents one variable from dominating the model, and is essential for regularization methods like Lasso or Ridge regression. Overall, scaling ensures a more stable and interpretable model."
      ],
      "metadata": {
        "id": "IsvRDbUiZWxc"
      }
    },
    {
      "cell_type": "markdown",
      "source": [
        "Q23. What is polynomial regression?"
      ],
      "metadata": {
        "id": "UymzASaNZkTV"
      }
    },
    {
      "cell_type": "markdown",
      "source": [
        "Ans. Polynomial regression is a type of regression analysis that models the relationship between a dependent variable and one or more independent variables using a polynomial equation. Instead of fitting a straight line like in linear regression, it fits a curve, allowing it to capture non-linear relationships. The degree of the polynomial determines how complex the curve is, with higher degrees allowing for more flexibility. It's useful for data that shows curvilinear trends but requires careful selection of the polynomial degree to avoid overfitting."
      ],
      "metadata": {
        "id": "T2hvKwUhZokw"
      }
    },
    {
      "cell_type": "markdown",
      "source": [
        "Q24. How does polynomial regression differ from linear regression?"
      ],
      "metadata": {
        "id": "an0Ajk4hZzfv"
      }
    },
    {
      "cell_type": "markdown",
      "source": [
        "Ans. Polynomial regression differs from linear regression in that it fits a curved line to the data instead of a straight line. This allows polynomial regression to capture non-linear relationships, making it more flexible for complex datasets. In contrast, linear regression is simpler and only models linear relationships."
      ],
      "metadata": {
        "id": "j0MFP_dtZ3dM"
      }
    },
    {
      "cell_type": "markdown",
      "source": [
        "Q25. When is polynomial regression used?"
      ],
      "metadata": {
        "id": "6VCpXt5iaP6n"
      }
    },
    {
      "cell_type": "markdown",
      "source": [
        "Ans. Polynomial regression is used when the relationship between variables is not linear. It's helpful for modeling curvilinear relationships, complex trends, data with fluctuations, and situations where the effect of the independent variable changes at different levels."
      ],
      "metadata": {
        "id": "J4PnXHa0aV01"
      }
    },
    {
      "cell_type": "markdown",
      "source": [
        "Q26. What is the general equation for polynomial regression?"
      ],
      "metadata": {
        "id": "R4n7GBhEaikr"
      }
    },
    {
      "cell_type": "markdown",
      "source": [
        "Ans. The general equation for polynomial regression is:\n",
        "\n",
        "y = b0 + b1*x + b2*x² + b3*x³ + ... + bp*x^p\n",
        "\n",
        "Here, y is the dependent variable, x is the independent variable, b0 is the y-intercept, and b1, b2, ..., bp are the coefficients for each term, with p being the degree of the polynomial."
      ],
      "metadata": {
        "id": "eeX9dctSam6-"
      }
    },
    {
      "cell_type": "markdown",
      "source": [
        "Q27.  Can polynomial regression be applied to multiple variables?"
      ],
      "metadata": {
        "id": "R5d0UzJ6bWJ6"
      }
    },
    {
      "cell_type": "markdown",
      "source": [
        "Ans. Yes, polynomial regression can also be applied to multiple variables. This is known as multiple polynomial regression. You use multiple independent variables to understand their polynomial relationship with the dependent variable. In this process, you create polynomial features and fit a linear regression model to them."
      ],
      "metadata": {
        "id": "t46reNhfbat5"
      }
    },
    {
      "cell_type": "markdown",
      "source": [
        "Q28. What are the limitations of polynomial regression?"
      ],
      "metadata": {
        "id": "YSlxDn2jbnQm"
      }
    },
    {
      "cell_type": "markdown",
      "source": [
        "Ans. The limitations of polynomial regression include:\n",
        "\n",
        "1. Overfitting: A high degree can lead to a model that fits the training data well but performs poorly on new data.\n",
        "2. Extrapolation: Predictions outside the training data can be unreliable.\n",
        "3. Complexity: High-degree polynomials can be difficult to interpret.\n",
        "4. Multicollinearity: High correlation among independent variables can make the model unstable.\n",
        "5. Assumption of polynomial relationship: It only captures polynomial relationships, which may not be accurate for linear or other forms.\n",
        "\n"
      ],
      "metadata": {
        "id": "KHO5Pgx7buis"
      }
    },
    {
      "cell_type": "markdown",
      "source": [
        "Q29. What methods can be used to evaluate model fit when selecting the degree of a polynomial?"
      ],
      "metadata": {
        "id": "i4CcfXM8b8hx"
      }
    },
    {
      "cell_type": "markdown",
      "source": [
        "Ans. To evaluate model fit when selecting the degree of a polynomial, you can use:\n",
        "\n",
        "1. Cross-Validation: Splitting data into training and validation sets to check model performance.\n",
        "2. Adjusted R-squared: Measures goodness-of-fit while penalizing for complexity.\n",
        "3. Akaike Information Criterion (AIC) or Bayesian Information Criterion (BIC): Considers both model fit and complexity; lower values indicate better fit.\n",
        "4. Residual Analysis: Analyzing residuals to see if they are random, which indicates a good fit.\n",
        "\n",
        "These methods help in selecting the best polynomial degree.\n",
        "\n"
      ],
      "metadata": {
        "id": "z05ZC8UQcCCC"
      }
    },
    {
      "cell_type": "markdown",
      "source": [
        "Q30. Why is visualization important in polynomial regression?"
      ],
      "metadata": {
        "id": "844L4uH3cYo1"
      }
    },
    {
      "cell_type": "markdown",
      "source": [
        "Ans. Visualization is important in polynomial regression because:\n",
        "\n",
        "1. Understanding Relationships: It helps to understand the relationship between the data and the polynomial fit.\n",
        "2. Identifying Overfitting: Visuals can reveal if the model fits the training data well but performs poorly on new data.\n",
        "3. Evaluating Model Fit: You can plot residuals to see if the model's predictions are accurate.\n",
        "4. Communicating Results: Visuals make it easier to explain findings to others.\n",
        "\n",
        "These reasons highlight the critical role of visualization in polynomial regression.\n",
        "\n"
      ],
      "metadata": {
        "id": "NP05U9kecdKJ"
      }
    },
    {
      "cell_type": "markdown",
      "source": [
        "Q31. How is polynomial regression implemented in Python?"
      ],
      "metadata": {
        "id": "kNMqPkcecv8V"
      }
    },
    {
      "cell_type": "code",
      "source": [
        "import numpy as np\n",
        "import matplotlib.pyplot as plt\n",
        "from sklearn.linear_model import LinearRegression\n",
        "from sklearn.preprocessing import PolynomialFeatures\n",
        "\n",
        "# Sample data (replace with your actual data)\n",
        "X = np.array([1, 2, 3, 4, 5]).reshape(-1, 1)\n",
        "y = np.array([2, 4, 5, 4, 5])\n",
        "\n",
        "# Create polynomial features\n",
        "degrees = [1, 2, 3]  # Try different degrees of the polynomial\n",
        "\n",
        "for degree in degrees:\n",
        "    polynomial_features = PolynomialFeatures(degree=degree)\n",
        "    X_poly = polynomial_features.fit_transform(X)\n",
        "\n",
        "    # Fit linear regression model\n",
        "    model = LinearRegression()\n",
        "    model.fit(X_poly, y)\n",
        "\n",
        "    # Make predictions\n",
        "    y_pred = model.predict(X_poly)\n",
        "\n",
        "    # Plot the results\n",
        "    plt.scatter(X, y, label='Data')\n",
        "    plt.plot(X, y_pred, color='red', label=f'Polynomial Regression (degree={degree})')\n",
        "    plt.xlabel('X')\n",
        "    plt.ylabel('y')\n",
        "    plt.title(f'Polynomial Regression (degree={degree})')\n",
        "    plt.legend()\n",
        "    plt.show()\n",
        "\n",
        "    print(f\"Coefficients for degree {degree}: {model.coef_}\")\n",
        "    print(f\"Intercept for degree {degree}: {model.intercept_}\")"
      ],
      "metadata": {
        "colab": {
          "base_uri": "https://localhost:8080/",
          "height": 1000
        },
        "id": "lFXOia9Ygik3",
        "outputId": "ce4a97a8-adad-4448-a4a9-a2d603a9ef38"
      },
      "execution_count": 3,
      "outputs": [
        {
          "output_type": "display_data",
          "data": {
            "text/plain": [
              "<Figure size 640x480 with 1 Axes>"
            ],
            "image/png": "[encoded data removed]"
          },
          "metadata": {}
        },
        {
          "output_type": "stream",
          "name": "stdout",
          "text": [
            "Coefficients for degree 1: [0.  0.6]\n",
            "Intercept for degree 1: 2.2\n"
          ]
        },
        {
          "output_type": "display_data",
          "data": {
            "text/plain": [
              "<Figure size 640x480 with 1 Axes>"
            ],
            "image/png": "[encoded data removed]"
          },
          "metadata": {}
        },
        {
          "output_type": "stream",
          "name": "stdout",
          "text": [
            "Coefficients for degree 2: [ 0.          2.31428571 -0.28571429]\n",
            "Intercept for degree 2: 0.20000000000001128\n"
          ]
        },
        {
          "output_type": "display_data",
          "data": {
            "text/plain": [
              "<Figure size 640x480 with 1 Axes>"
            ],
            "image/png": "[encoded data removed]"
          },
          "metadata": {}
        },
        {
          "output_type": "stream",
          "name": "stdout",
          "text": [
            "Coefficients for degree 3: [ 0.          8.21428571 -2.53571429  0.25      ]\n",
            "Intercept for degree 3: -3.9999999999993623\n"
          ]
        }
      ]
    }
  ]
}